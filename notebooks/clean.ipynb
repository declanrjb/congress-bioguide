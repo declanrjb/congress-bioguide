{
 "cells": [
  {
   "cell_type": "code",
   "execution_count": 1,
   "metadata": {},
   "outputs": [],
   "source": [
    "import os\n",
    "import json\n",
    "import pandas as pd"
   ]
  },
  {
   "cell_type": "code",
   "execution_count": 128,
   "metadata": {},
   "outputs": [],
   "source": [
    "def extract_name(data):\n",
    "    return data['givenName'] + ' ' + data['familyName']\n",
    "\n",
    "def extract_bio(data):\n",
    "    return data['profileText']\n",
    "\n",
    "def get_congresses(data):\n",
    "    jobs = data['jobPositions']\n",
    "    for job in jobs:\n",
    "        try:\n",
    "            yield job['congressAffiliation']['congress']['congressNumber']\n",
    "        except:\n",
    "            print('bad field')\n",
    "\n",
    "def load_bio(file):\n",
    "    with open(file,'r') as in_file:\n",
    "        data = json.load(in_file)\n",
    "        data = {k:data[k] for k in [x for x in ['usCongressBioId','givenName','middleName','familyName','birthDate','birthCirca','deathDate','deathCirca','image','profileText'] if x in data.keys()]}\n",
    "        data = streamline(data)\n",
    "        if 'image' in data:\n",
    "            if 'contentUrl' in data['image']:\n",
    "                data['image'] = data['image']['contentUrl']\n",
    "            else:\n",
    "                data['image'] = None\n",
    "        return pd.DataFrame({k:[data[k]] for k in data})\n",
    "\n",
    "def df_to_md(df,out_name):\n",
    "    with open(out_name,'w') as out_file:\n",
    "        for i in range(0,len(df['name'])):\n",
    "            out_file.write(f\"# {df['name'][i]}\\n\")\n",
    "            out_file.write(\" \\n\")\n",
    "            bio_lines = pd.Series(df['bio'][i].split(';')).apply(lambda x: x.strip())\n",
    "            for line in bio_lines:\n",
    "                if 'College' in line or 'University' in line:\n",
    "                    out_file.write(f\"- **{line}**\\n\")\n",
    "                else:\n",
    "                    out_file.write(f\"- {line}\\n\")\n",
    "            out_file.write(\" \\n\")\n",
    "\n",
    "def streamline(data):\n",
    "    for k in data:\n",
    "        if type(data[k]) == list:\n",
    "            if len(data[k]) > 0:\n",
    "                data[k] = data[k][0]\n",
    "            else:\n",
    "                data[k] = None\n",
    "    return data\n",
    "\n",
    "def clean_research_record(r_record):\n",
    "    if 'parentRecordLocation' in r_record['recordLocation']:\n",
    "        r_record['recordLocationName'] = r_record['recordLocation']['name'] + ', ' + r_record['recordLocation']['parentRecordLocation']['name']\n",
    "    else:\n",
    "        r_record['recordLocationName'] = r_record['recordLocation']['name']\n",
    "    r_record['recordLocationAddress'] = r_record['recordLocation']['location']['addressLocality'] + ', ' + r_record['recordLocation']['location']['addressRegion']\n",
    "    r_record = {k:r_record[k] for k in [x for x in ['name','recordType','description','recordLocationName','recordLocationAddress'] if x in r_record.keys()]}\n",
    "    r_record = streamline(r_record)\n",
    "    r_record = {k:[r_record[k]] for k in r_record}\n",
    "    return pd.DataFrame(r_record)\n",
    "\n",
    "def load_research_records(file):\n",
    "    with open(file,'r') as in_file:\n",
    "        data = json.load(in_file)\n",
    "    if len(data['researchRecord']) > 0:\n",
    "        return pd.concat([clean_research_record(record) for record in data['researchRecord']])\n",
    "    else:\n",
    "        return None"
   ]
  },
  {
   "cell_type": "code",
   "execution_count": 3,
   "metadata": {},
   "outputs": [],
   "source": [
    "files = ['../data/raw/' + file for file in os.listdir('../data/raw')]"
   ]
  },
  {
   "cell_type": "code",
   "execution_count": 88,
   "metadata": {},
   "outputs": [],
   "source": [
    "directory = pd.concat([load_bio(file) for file in files])\n",
    "directory = directory.reset_index(drop=True).fillna('')\n",
    "directory = directory.drop('image',axis=1)"
   ]
  },
  {
   "cell_type": "code",
   "execution_count": 89,
   "metadata": {},
   "outputs": [],
   "source": [
    "directory.to_csv('../data/clean/directory.csv',index=False)"
   ]
  },
  {
   "cell_type": "code",
   "execution_count": 109,
   "metadata": {},
   "outputs": [],
   "source": []
  },
  {
   "cell_type": "code",
   "execution_count": 127,
   "metadata": {},
   "outputs": [
    {
     "data": {
      "text/plain": [
       "[{'name': '1878. 1 item.',\n",
       "  'recordType': ['Papers'],\n",
       "  'recordLocation': {'name': 'Pierpont Morgan Library',\n",
       "   'location': {'addressLocality': 'New York', 'addressRegion': 'NY'}}},\n",
       " {'name': 'October 17, 1888; November 15, 1893. 2 items.',\n",
       "  'recordType': ['Papers'],\n",
       "  'recordLocation': {'name': 'New-York Historical Society',\n",
       "   'location': {'addressLocality': 'New York', 'addressRegion': 'NY'}}},\n",
       " {'name': '1850-1911. 185 items. Correspondence, speeches, clippings, and pamphlets. Includes correspondence with his wife while he served in the Texas legislature and in the Confederate army, and material on politics and government after the Civil War.',\n",
       "  'recordType': ['Papers'],\n",
       "  'recordLocation': {'name': 'Dallas Historical Society',\n",
       "   'location': {'addressLocality': 'Dallas', 'addressRegion': 'TX'}}},\n",
       " {'name': 'Correspondence in George Fred Williams papers, 1877-1898.',\n",
       "  'recordType': ['Papers'],\n",
       "  'recordLocation': {'name': 'Massachusetts Historical Society',\n",
       "   'url': 'http://thomasjeffersonpapers.org/independence',\n",
       "   'location': {'addressLocality': 'Boston', 'addressRegion': 'MA'}}},\n",
       " {'name': '1813-1938. 9 inches. Correspondence, speeches, writings, scrapbook, photographs, and clippings chiefly relating to his legal, political, and military activities, including material on tariffs and free trade. Finding aid.',\n",
       "  'recordType': ['Papers'],\n",
       "  'recordLocation': {'name': 'Center for American History',\n",
       "   'location': {'addressLocality': 'Austin', 'addressRegion': 'TX'},\n",
       "   'parentRecordLocation': {'name': 'University of Texas',\n",
       "    'url': 'http://www.lib.utexas.edu/libs/cah',\n",
       "    'location': {'addressLocality': 'Austin', 'addressRegion': 'TX'}}}},\n",
       " {'name': 'Ca. 2 inches of items pertaining to 1986 campaign in Thomas S. Henderson papers. Finding aid.',\n",
       "  'recordType': ['Papers'],\n",
       "  'recordLocation': {'name': 'Center for American History',\n",
       "   'location': {'addressLocality': 'Austin', 'addressRegion': 'TX'},\n",
       "   'parentRecordLocation': {'name': 'University of Texas',\n",
       "    'url': 'http://www.lib.utexas.edu/libs/cah',\n",
       "    'location': {'addressLocality': 'Austin', 'addressRegion': 'TX'}}}}]"
      ]
     },
     "execution_count": 127,
     "metadata": {},
     "output_type": "execute_result"
    }
   ],
   "source": [
    "with open(files[3],'r') as in_file:\n",
    "    data = json.load(in_file)\n",
    "data['researchRecord']\n"
   ]
  },
  {
   "cell_type": "code",
   "execution_count": 130,
   "metadata": {},
   "outputs": [
    {
     "ename": "KeyError",
     "evalue": "'addressLocality'",
     "output_type": "error",
     "traceback": [
      "\u001b[0;31m---------------------------------------------------------------------------\u001b[0m",
      "\u001b[0;31mKeyError\u001b[0m                                  Traceback (most recent call last)",
      "Cell \u001b[0;32mIn[130], line 1\u001b[0m\n\u001b[0;32m----> 1\u001b[0m \u001b[43m[\u001b[49m\u001b[43mload_research_records\u001b[49m\u001b[43m(\u001b[49m\u001b[43mfile\u001b[49m\u001b[43m)\u001b[49m\u001b[43m \u001b[49m\u001b[38;5;28;43;01mfor\u001b[39;49;00m\u001b[43m \u001b[49m\u001b[43mfile\u001b[49m\u001b[43m \u001b[49m\u001b[38;5;129;43;01min\u001b[39;49;00m\u001b[43m \u001b[49m\u001b[43mfiles\u001b[49m\u001b[43m]\u001b[49m\n",
      "Cell \u001b[0;32mIn[130], line 1\u001b[0m, in \u001b[0;36m<listcomp>\u001b[0;34m(.0)\u001b[0m\n\u001b[0;32m----> 1\u001b[0m [\u001b[43mload_research_records\u001b[49m\u001b[43m(\u001b[49m\u001b[43mfile\u001b[49m\u001b[43m)\u001b[49m \u001b[38;5;28;01mfor\u001b[39;00m file \u001b[38;5;129;01min\u001b[39;00m files]\n",
      "Cell \u001b[0;32mIn[128], line 64\u001b[0m, in \u001b[0;36mload_research_records\u001b[0;34m(file)\u001b[0m\n\u001b[1;32m     62\u001b[0m     data \u001b[38;5;241m=\u001b[39m json\u001b[38;5;241m.\u001b[39mload(in_file)\n\u001b[1;32m     63\u001b[0m \u001b[38;5;28;01mif\u001b[39;00m \u001b[38;5;28mlen\u001b[39m(data[\u001b[38;5;124m'\u001b[39m\u001b[38;5;124mresearchRecord\u001b[39m\u001b[38;5;124m'\u001b[39m]) \u001b[38;5;241m>\u001b[39m \u001b[38;5;241m0\u001b[39m:\n\u001b[0;32m---> 64\u001b[0m     \u001b[38;5;28;01mreturn\u001b[39;00m pd\u001b[38;5;241m.\u001b[39mconcat(\u001b[43m[\u001b[49m\u001b[43mclean_research_record\u001b[49m\u001b[43m(\u001b[49m\u001b[43mrecord\u001b[49m\u001b[43m)\u001b[49m\u001b[43m \u001b[49m\u001b[38;5;28;43;01mfor\u001b[39;49;00m\u001b[43m \u001b[49m\u001b[43mrecord\u001b[49m\u001b[43m \u001b[49m\u001b[38;5;129;43;01min\u001b[39;49;00m\u001b[43m \u001b[49m\u001b[43mdata\u001b[49m\u001b[43m[\u001b[49m\u001b[38;5;124;43m'\u001b[39;49m\u001b[38;5;124;43mresearchRecord\u001b[39;49m\u001b[38;5;124;43m'\u001b[39;49m\u001b[43m]\u001b[49m\u001b[43m]\u001b[49m)\n\u001b[1;32m     65\u001b[0m \u001b[38;5;28;01melse\u001b[39;00m:\n\u001b[1;32m     66\u001b[0m     \u001b[38;5;28;01mreturn\u001b[39;00m \u001b[38;5;28;01mNone\u001b[39;00m\n",
      "Cell \u001b[0;32mIn[128], line 64\u001b[0m, in \u001b[0;36m<listcomp>\u001b[0;34m(.0)\u001b[0m\n\u001b[1;32m     62\u001b[0m     data \u001b[38;5;241m=\u001b[39m json\u001b[38;5;241m.\u001b[39mload(in_file)\n\u001b[1;32m     63\u001b[0m \u001b[38;5;28;01mif\u001b[39;00m \u001b[38;5;28mlen\u001b[39m(data[\u001b[38;5;124m'\u001b[39m\u001b[38;5;124mresearchRecord\u001b[39m\u001b[38;5;124m'\u001b[39m]) \u001b[38;5;241m>\u001b[39m \u001b[38;5;241m0\u001b[39m:\n\u001b[0;32m---> 64\u001b[0m     \u001b[38;5;28;01mreturn\u001b[39;00m pd\u001b[38;5;241m.\u001b[39mconcat([\u001b[43mclean_research_record\u001b[49m\u001b[43m(\u001b[49m\u001b[43mrecord\u001b[49m\u001b[43m)\u001b[49m \u001b[38;5;28;01mfor\u001b[39;00m record \u001b[38;5;129;01min\u001b[39;00m data[\u001b[38;5;124m'\u001b[39m\u001b[38;5;124mresearchRecord\u001b[39m\u001b[38;5;124m'\u001b[39m]])\n\u001b[1;32m     65\u001b[0m \u001b[38;5;28;01melse\u001b[39;00m:\n\u001b[1;32m     66\u001b[0m     \u001b[38;5;28;01mreturn\u001b[39;00m \u001b[38;5;28;01mNone\u001b[39;00m\n",
      "Cell \u001b[0;32mIn[128], line 54\u001b[0m, in \u001b[0;36mclean_research_record\u001b[0;34m(r_record)\u001b[0m\n\u001b[1;32m     52\u001b[0m \u001b[38;5;28;01melse\u001b[39;00m:\n\u001b[1;32m     53\u001b[0m     r_record[\u001b[38;5;124m'\u001b[39m\u001b[38;5;124mrecordLocationName\u001b[39m\u001b[38;5;124m'\u001b[39m] \u001b[38;5;241m=\u001b[39m r_record[\u001b[38;5;124m'\u001b[39m\u001b[38;5;124mrecordLocation\u001b[39m\u001b[38;5;124m'\u001b[39m][\u001b[38;5;124m'\u001b[39m\u001b[38;5;124mname\u001b[39m\u001b[38;5;124m'\u001b[39m]\n\u001b[0;32m---> 54\u001b[0m r_record[\u001b[38;5;124m'\u001b[39m\u001b[38;5;124mrecordLocationAddress\u001b[39m\u001b[38;5;124m'\u001b[39m] \u001b[38;5;241m=\u001b[39m \u001b[43mr_record\u001b[49m\u001b[43m[\u001b[49m\u001b[38;5;124;43m'\u001b[39;49m\u001b[38;5;124;43mrecordLocation\u001b[39;49m\u001b[38;5;124;43m'\u001b[39;49m\u001b[43m]\u001b[49m\u001b[43m[\u001b[49m\u001b[38;5;124;43m'\u001b[39;49m\u001b[38;5;124;43mlocation\u001b[39;49m\u001b[38;5;124;43m'\u001b[39;49m\u001b[43m]\u001b[49m\u001b[43m[\u001b[49m\u001b[38;5;124;43m'\u001b[39;49m\u001b[38;5;124;43maddressLocality\u001b[39;49m\u001b[38;5;124;43m'\u001b[39;49m\u001b[43m]\u001b[49m \u001b[38;5;241m+\u001b[39m \u001b[38;5;124m'\u001b[39m\u001b[38;5;124m, \u001b[39m\u001b[38;5;124m'\u001b[39m \u001b[38;5;241m+\u001b[39m r_record[\u001b[38;5;124m'\u001b[39m\u001b[38;5;124mrecordLocation\u001b[39m\u001b[38;5;124m'\u001b[39m][\u001b[38;5;124m'\u001b[39m\u001b[38;5;124mlocation\u001b[39m\u001b[38;5;124m'\u001b[39m][\u001b[38;5;124m'\u001b[39m\u001b[38;5;124maddressRegion\u001b[39m\u001b[38;5;124m'\u001b[39m]\n\u001b[1;32m     55\u001b[0m r_record \u001b[38;5;241m=\u001b[39m {k:r_record[k] \u001b[38;5;28;01mfor\u001b[39;00m k \u001b[38;5;129;01min\u001b[39;00m [x \u001b[38;5;28;01mfor\u001b[39;00m x \u001b[38;5;129;01min\u001b[39;00m [\u001b[38;5;124m'\u001b[39m\u001b[38;5;124mname\u001b[39m\u001b[38;5;124m'\u001b[39m,\u001b[38;5;124m'\u001b[39m\u001b[38;5;124mrecordType\u001b[39m\u001b[38;5;124m'\u001b[39m,\u001b[38;5;124m'\u001b[39m\u001b[38;5;124mdescription\u001b[39m\u001b[38;5;124m'\u001b[39m,\u001b[38;5;124m'\u001b[39m\u001b[38;5;124mrecordLocationName\u001b[39m\u001b[38;5;124m'\u001b[39m,\u001b[38;5;124m'\u001b[39m\u001b[38;5;124mrecordLocationAddress\u001b[39m\u001b[38;5;124m'\u001b[39m] \u001b[38;5;28;01mif\u001b[39;00m x \u001b[38;5;129;01min\u001b[39;00m r_record\u001b[38;5;241m.\u001b[39mkeys()]}\n\u001b[1;32m     56\u001b[0m r_record \u001b[38;5;241m=\u001b[39m streamline(r_record)\n",
      "\u001b[0;31mKeyError\u001b[0m: 'addressLocality'"
     ]
    }
   ],
   "source": [
    "[load_research_records(file) for file in files]"
   ]
  },
  {
   "cell_type": "code",
   "execution_count": null,
   "metadata": {},
   "outputs": [],
   "source": []
  }
 ],
 "metadata": {
  "kernelspec": {
   "display_name": "Python 3",
   "language": "python",
   "name": "python3"
  },
  "language_info": {
   "codemirror_mode": {
    "name": "ipython",
    "version": 3
   },
   "file_extension": ".py",
   "mimetype": "text/x-python",
   "name": "python",
   "nbconvert_exporter": "python",
   "pygments_lexer": "ipython3",
   "version": "3.11.8"
  }
 },
 "nbformat": 4,
 "nbformat_minor": 2
}
