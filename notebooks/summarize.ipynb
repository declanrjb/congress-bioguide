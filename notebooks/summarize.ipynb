{
 "cells": [
  {
   "cell_type": "code",
   "execution_count": 171,
   "metadata": {},
   "outputs": [],
   "source": [
    "import os\n",
    "import json\n",
    "import pandas as pd"
   ]
  },
  {
   "cell_type": "code",
   "execution_count": 172,
   "metadata": {},
   "outputs": [],
   "source": [
    "def extract_name(data):\n",
    "    return data['givenName'] + ' ' + data['familyName']\n",
    "\n",
    "def extract_bio(data):\n",
    "    return data['profileText']\n",
    "\n",
    "def get_congresses(data):\n",
    "    jobs = data['jobPositions']\n",
    "    for job in jobs:\n",
    "        try:\n",
    "            yield job['congressAffiliation']['congress']['congressNumber']\n",
    "        except:\n",
    "            print('bad field')\n",
    "\n",
    "def load_bio(file):\n",
    "    with open(file,'r') as in_file:\n",
    "        data = json.load(in_file)\n",
    "        congresses = list(get_congresses(data))\n",
    "        return pd.DataFrame({\n",
    "            'name':[extract_name(data)],\n",
    "            'bio':[data['profileText']],\n",
    "            'alive':['deathDate' not in data],\n",
    "            'recent':[118 in congresses or 119 in congresses]\n",
    "        })\n",
    "\n",
    "def df_to_md(df,out_name):\n",
    "    with open(out_name,'w') as out_file:\n",
    "        for i in range(0,len(df['name'])):\n",
    "            out_file.write(f\"# {df['name'][i]}\\n\")\n",
    "            out_file.write(\" \\n\")\n",
    "            bio_lines = pd.Series(df['bio'][i].split(';')).apply(lambda x: x.strip())\n",
    "            for line in bio_lines:\n",
    "                if 'College' in line or 'University' in line:\n",
    "                    out_file.write(f\"- **{line}**\\n\")\n",
    "                else:\n",
    "                    out_file.write(f\"- {line}\\n\")\n",
    "            out_file.write(\" \\n\")"
   ]
  },
  {
   "cell_type": "code",
   "execution_count": 173,
   "metadata": {},
   "outputs": [],
   "source": [
    "files = ['../data/raw/' + file for file in os.listdir('../data/raw')]"
   ]
  },
  {
   "cell_type": "code",
   "execution_count": 174,
   "metadata": {},
   "outputs": [
    {
     "name": "stdout",
     "output_type": "stream",
     "text": [
      "bad field\n",
      "bad field\n",
      "bad field\n",
      "bad field\n",
      "bad field\n",
      "bad field\n",
      "bad field\n"
     ]
    }
   ],
   "source": [
    "df = pd.concat([load_bio(file) for file in files])\n",
    "df = df.sort_values('name').reset_index(drop=True)"
   ]
  },
  {
   "cell_type": "code",
   "execution_count": 175,
   "metadata": {},
   "outputs": [],
   "source": [
    "df_to_md(df,'../full.md')"
   ]
  },
  {
   "cell_type": "code",
   "execution_count": 176,
   "metadata": {},
   "outputs": [],
   "source": [
    "alive_df = df[df['alive']].reset_index(drop=True)\n",
    "df_to_md(alive_df,'../recent.md')"
   ]
  },
  {
   "cell_type": "code",
   "execution_count": 177,
   "metadata": {},
   "outputs": [],
   "source": [
    "recent_df = df[df['alive']].reset_index(drop=True)\n",
    "df_to_md(alive_df,'../alive.md')"
   ]
  }
 ],
 "metadata": {
  "kernelspec": {
   "display_name": "Python 3",
   "language": "python",
   "name": "python3"
  },
  "language_info": {
   "codemirror_mode": {
    "name": "ipython",
    "version": 3
   },
   "file_extension": ".py",
   "mimetype": "text/x-python",
   "name": "python",
   "nbconvert_exporter": "python",
   "pygments_lexer": "ipython3",
   "version": "3.11.8"
  }
 },
 "nbformat": 4,
 "nbformat_minor": 2
}
